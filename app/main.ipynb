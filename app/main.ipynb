{
 "cells": [
  {
   "cell_type": "code",
   "execution_count": 4,
   "metadata": {
    "collapsed": true,
    "pycharm": {
     "name": "#%%\n"
    },
    "ExecuteTime": {
     "end_time": "2025-02-06T09:02:31.947633Z",
     "start_time": "2025-02-06T09:02:30.121249Z"
    }
   },
   "outputs": [],
   "source": [
    "import pandas as pd\n",
    "import numpy as np\n",
    "import sqlite3"
   ]
  },
  {
   "cell_type": "markdown",
   "source": [
    "# Task 0\n",
    "Data extraction: get the data from 3 tables & combine it into single `.csv` file.\n",
    "After that read this file using pandas to create Dataframe.\n",
    "So it will be all joined data in 1 dataframe. Quick check - should be 74818 rows in it."
   ],
   "metadata": {
    "collapsed": false,
    "pycharm": {
     "name": "#%% md\n"
    }
   }
  },
  {
   "cell_type": "code",
   "execution_count": 11,
   "outputs": [
    {
     "data": {
      "text/plain": "          id  quantity             datetime                   name  price\n0          1         2  2019-08-03 20:25:00          Plain Papadum   0.80\n1          2         1  2019-08-03 20:25:00       King Prawn Balti  12.95\n2          3         1  2019-08-03 20:25:00            Garlic Naan   2.95\n3          4         1  2019-08-03 20:25:00          Mushroom Rice   3.95\n4          5         1  2019-08-03 20:25:00    Paneer Tikka Masala   8.95\n...      ...       ...                  ...                    ...    ...\n74813  74814         2  2016-05-18 18:53:00    House Red wine 75cl  17.95\n74814  74815         2  2016-05-14 19:28:00    House Red wine 75cl  17.95\n74815  74816         2  2016-05-10 13:18:00    House Red wine 75cl  17.95\n74816  74817         1  2016-04-07 19:04:00  House white wine 75cl  17.95\n74817  74818         1  2015-10-02 17:29:00    House Red wine 75cl  17.95\n\n[74818 rows x 5 columns]",
      "text/html": "<div>\n<style scoped>\n    .dataframe tbody tr th:only-of-type {\n        vertical-align: middle;\n    }\n\n    .dataframe tbody tr th {\n        vertical-align: top;\n    }\n\n    .dataframe thead th {\n        text-align: right;\n    }\n</style>\n<table border=\"1\" class=\"dataframe\">\n  <thead>\n    <tr style=\"text-align: right;\">\n      <th></th>\n      <th>id</th>\n      <th>quantity</th>\n      <th>datetime</th>\n      <th>name</th>\n      <th>price</th>\n    </tr>\n  </thead>\n  <tbody>\n    <tr>\n      <th>0</th>\n      <td>1</td>\n      <td>2</td>\n      <td>2019-08-03 20:25:00</td>\n      <td>Plain Papadum</td>\n      <td>0.80</td>\n    </tr>\n    <tr>\n      <th>1</th>\n      <td>2</td>\n      <td>1</td>\n      <td>2019-08-03 20:25:00</td>\n      <td>King Prawn Balti</td>\n      <td>12.95</td>\n    </tr>\n    <tr>\n      <th>2</th>\n      <td>3</td>\n      <td>1</td>\n      <td>2019-08-03 20:25:00</td>\n      <td>Garlic Naan</td>\n      <td>2.95</td>\n    </tr>\n    <tr>\n      <th>3</th>\n      <td>4</td>\n      <td>1</td>\n      <td>2019-08-03 20:25:00</td>\n      <td>Mushroom Rice</td>\n      <td>3.95</td>\n    </tr>\n    <tr>\n      <th>4</th>\n      <td>5</td>\n      <td>1</td>\n      <td>2019-08-03 20:25:00</td>\n      <td>Paneer Tikka Masala</td>\n      <td>8.95</td>\n    </tr>\n    <tr>\n      <th>...</th>\n      <td>...</td>\n      <td>...</td>\n      <td>...</td>\n      <td>...</td>\n      <td>...</td>\n    </tr>\n    <tr>\n      <th>74813</th>\n      <td>74814</td>\n      <td>2</td>\n      <td>2016-05-18 18:53:00</td>\n      <td>House Red wine 75cl</td>\n      <td>17.95</td>\n    </tr>\n    <tr>\n      <th>74814</th>\n      <td>74815</td>\n      <td>2</td>\n      <td>2016-05-14 19:28:00</td>\n      <td>House Red wine 75cl</td>\n      <td>17.95</td>\n    </tr>\n    <tr>\n      <th>74815</th>\n      <td>74816</td>\n      <td>2</td>\n      <td>2016-05-10 13:18:00</td>\n      <td>House Red wine 75cl</td>\n      <td>17.95</td>\n    </tr>\n    <tr>\n      <th>74816</th>\n      <td>74817</td>\n      <td>1</td>\n      <td>2016-04-07 19:04:00</td>\n      <td>House white wine 75cl</td>\n      <td>17.95</td>\n    </tr>\n    <tr>\n      <th>74817</th>\n      <td>74818</td>\n      <td>1</td>\n      <td>2015-10-02 17:29:00</td>\n      <td>House Red wine 75cl</td>\n      <td>17.95</td>\n    </tr>\n  </tbody>\n</table>\n<p>74818 rows × 5 columns</p>\n</div>"
     },
     "metadata": {},
     "output_type": "display_data"
    }
   ],
   "source": [
    "conn = sqlite3.connect(\"..//db.sqlite3\")\n",
    "query = \"\"\"\n",
    "SELECT \n",
    "    t1.id, t1.quantity, t2.datetime, t3.name, t3.price\n",
    "FROM restaurant_orderitem AS t1\n",
    "INNER JOIN restaurant_order AS t2 ON t1.order_id = t2.id\n",
    "INNER JOIN restaurant_product AS t3 ON t1.product_id = t3.id\n",
    "\"\"\"\n",
    "df = pd.read_sql(query, conn)\n",
    "df.to_csv(\"output.csv\", index=False)\n",
    "conn.close()\n",
    "df.describe()\n",
    "display(df)"
   ],
   "metadata": {
    "collapsed": false,
    "pycharm": {
     "name": "#%%\n"
    },
    "ExecuteTime": {
     "end_time": "2025-02-06T10:38:51.633159Z",
     "start_time": "2025-02-06T10:38:51.217003Z"
    }
   }
  },
  {
   "cell_type": "markdown",
   "source": [
    "# Task 1\n",
    "Get Top 10 most popular products in restaurant sold by Quantity.\n",
    "Count how many times each product was sold and create a pie chart with percentage of popularity (by quantity) for top 10 of them.\n",
    "\n",
    "Example:\n",
    "\n",
    "![pie chart](../demo/pie.png)"
   ],
   "metadata": {
    "collapsed": false,
    "pycharm": {
     "name": "#%% md\n"
    }
   }
  },
  {
   "cell_type": "code",
   "execution_count": null,
   "outputs": [],
   "source": [
    "# write your code here"
   ],
   "metadata": {
    "collapsed": false,
    "pycharm": {
     "name": "#%%\n"
    }
   }
  },
  {
   "cell_type": "markdown",
   "source": [
    "# Task 2\n",
    "Calculate `Item Price` (Product Price * Quantity) for each Order Item in dataframe.\n",
    "And Make the same Top 10 pie chart, but this time by `Item Price`. So this chart should describe not the most popular products by quantity, but which products (top 10) make the most money for restaurant. It should be also with percentage."
   ],
   "metadata": {
    "collapsed": false,
    "pycharm": {
     "name": "#%% md\n"
    }
   }
  },
  {
   "cell_type": "code",
   "execution_count": null,
   "outputs": [],
   "source": [
    "# write your code here"
   ],
   "metadata": {
    "collapsed": false,
    "pycharm": {
     "name": "#%%\n",
     "is_executing": true
    }
   }
  },
  {
   "cell_type": "markdown",
   "source": [
    "# Task 3\n",
    "Calculate `Order Hour` based on `Order Datetime`, which will tell about the specific our the order was created (from 0 to 23). Using `Order Hour` create a bar chart, which will tell the total restaurant income based on the hour order was created. So on x-axis - it will be values from 0 to 23 (hours), on y-axis - it will be the total sum of order prices, which were sold on that hour.\n",
    "\n",
    "Example:\n",
    "\n",
    "![bar chart](../demo/bar.png)"
   ],
   "metadata": {
    "collapsed": false,
    "pycharm": {
     "name": "#%% md\n"
    }
   }
  },
  {
   "cell_type": "code",
   "execution_count": null,
   "outputs": [],
   "source": [
    "# write your code here"
   ],
   "metadata": {
    "collapsed": false,
    "pycharm": {
     "name": "#%%\n"
    }
   }
  },
  {
   "cell_type": "markdown",
   "source": [
    "# Task 4\n",
    "Make similar bar chart, but right now with `Order Day Of The Week` (from Monday to Sunday), and also analyze total restaurant income by each day of the week."
   ],
   "metadata": {
    "collapsed": false,
    "pycharm": {
     "name": "#%% md\n"
    }
   }
  },
  {
   "cell_type": "code",
   "execution_count": null,
   "outputs": [],
   "source": [
    "# write your code here"
   ],
   "metadata": {
    "collapsed": false,
    "pycharm": {
     "name": "#%%\n"
    }
   }
  }
 ],
 "metadata": {
  "kernelspec": {
   "display_name": "Python 3",
   "language": "python",
   "name": "python3"
  },
  "language_info": {
   "codemirror_mode": {
    "name": "ipython",
    "version": 2
   },
   "file_extension": ".py",
   "mimetype": "text/x-python",
   "name": "python",
   "nbconvert_exporter": "python",
   "pygments_lexer": "ipython2",
   "version": "2.7.6"
  }
 },
 "nbformat": 4,
 "nbformat_minor": 0
}
